{
 "cells": [
  {
   "cell_type": "code",
   "execution_count": null,
   "metadata": {},
   "outputs": [],
   "source": [
    "# default_exp plotting.utils"
   ]
  },
  {
   "cell_type": "markdown",
   "metadata": {},
   "source": [
    "# plotting.utils\n",
    "> Supplies utility function for core and controls"
   ]
  },
  {
   "cell_type": "code",
   "execution_count": null,
   "metadata": {},
   "outputs": [],
   "source": [
    "#export\n",
    "import datetime\n",
    "from typing import Union, Tuple, Iterable\n",
    "\n",
    "import numpy as np\n",
    "import pandas as pd\n",
    "\n",
    "from bokeh.plotting import figure, show\n",
    "from bokeh.models import CustomJS\n",
    "\n",
    "from icevision.visualize.draw_data import draw_record"
   ]
  },
  {
   "cell_type": "code",
   "execution_count": null,
   "metadata": {},
   "outputs": [],
   "source": [
    "#export\n",
    "def toggle_legend_js(figure):\n",
    "    \"\"\"Creates custom JS for bokeh to hide the legend with a double tap.\"\"\"\n",
    "    toggle_legend_js = CustomJS(\n",
    "        args=dict(leg=figure.legend[0]), \n",
    "        code=\"\"\"if (leg.visible){\n",
    "                    leg.visible = false\n",
    "                } else {\n",
    "                    leg.visible = true\n",
    "                }\"\"\"\n",
    "    )\n",
    "    return toggle_legend_js"
   ]
  },
  {
   "cell_type": "code",
   "execution_count": null,
   "metadata": {},
   "outputs": [],
   "source": [
    "#export\n",
    "def calculate_mixing_matrix(data: pd.DataFrame, mixing_col: str, mixing_objects: str, return_df: bool = True) -> Union[Tuple[np.ndarray, dict], pd.DataFrame]:\n",
    "    \"\"\"Calculates mixing matrix for the mixing_objects column where they mix in the mixing_col. \n",
    "    By standard the object class mixing matrix over the images is calculated. \n",
    "    Returns the mixing matrix and the mapping between label and mixing matrix index.\n",
    "    If return_df is True (default) a dataframe (instead of the mixing matrix) will be returned that can be directly consumed by histogram_2d.\"\"\"\n",
    "    # map labels to the mixing matrix index\n",
    "    mapping = {i:j for j,i in enumerate(np.sort(data[mixing_objects].unique()))}\n",
    "    num_unique_mixing_objects = data[mixing_objects].nunique()\n",
    "    mixing_matrix = np.zeros([num_unique_mixing_objects, num_unique_mixing_objects])\n",
    "    mixing_groups = data.groupby(mixing_col)\n",
    "    # iterate over each individual element with the same mixing_col to calculate the mixing based on the mixing_objects\n",
    "    for group_key, group in mixing_groups:\n",
    "        # handel self mixing\n",
    "        for value, count in group[mixing_objects].value_counts().iteritems():\n",
    "            if count > 1:\n",
    "                mixing_matrix[mapping[value], mapping[value]] += 1\n",
    "        # handel mixing of different objects\n",
    "        permutations = np.array(np.meshgrid(group[mixing_objects].unique(), group[mixing_objects].unique())).T.reshape(-1,2)\n",
    "        for permutation in permutations:\n",
    "            # avoid double counting in the self mixing \n",
    "            if permutation[0] != permutation[1]:\n",
    "                mixing_matrix[mapping[permutation[0]], mapping[permutation[1]]] += 1\n",
    "                \n",
    "    if return_df:\n",
    "        df_dict = {\"values\": [], \"col_name\": [], \"row_name\": []}\n",
    "        for row_name, row in zip(mapping, mixing_matrix):\n",
    "            df_dict[\"values\"] += row.tolist()\n",
    "            df_dict[\"row_name\"] += [row_name]*len(mapping)\n",
    "            df_dict[\"col_name\"] += mapping\n",
    "        return pd.DataFrame(df_dict)\n",
    "    return mixing_matrix, mapping"
   ]
  },
  {
   "cell_type": "code",
   "execution_count": null,
   "metadata": {},
   "outputs": [],
   "source": [
    "test_df = pd.DataFrame({\"filepath\": [\"fileA\", \"fileA\", \"fileB\",  \"fileB\"], \"label\": [\"labelA\", \"labelB\", \"labelA\", \"labelA\"]})\n",
    "mixing_matrix = calculate_mixing_matrix(test_df, \"filepath\", \"label\")\n",
    "assert all(mixing_matrix == pd.DataFrame({\"values\": [1, 1, 1, 0], \"col_name\": [\"labelA\",\"labelB\",\"labelA\",\"labelB\"], \"row_name\": [\"labelA\",\"labelA\",\"labelB\",\"labelB\"]}))"
   ]
  },
  {
   "cell_type": "code",
   "execution_count": null,
   "metadata": {},
   "outputs": [],
   "source": [
    "mixing_matrix, mapping = calculate_mixing_matrix(test_df, \"filepath\", \"label\", return_df=False)\n",
    "assert mapping == {\"labelA\": 0, \"labelB\": 1}\n",
    "assert (mixing_matrix == np.array([[1,1], [1,0]])).all()"
   ]
  },
  {
   "cell_type": "code",
   "execution_count": null,
   "metadata": {},
   "outputs": [],
   "source": [
    "#export\n",
    "def get_min_and_max_dates(dates: Iterable[datetime.datetime]) -> Tuple[datetime.datetime, datetime.datetime]:\n",
    "    \"\"\"Returns the min and max date. If all dates are the same the max date is moved one day forward.\"\"\"\n",
    "    min_date = min(dates).replace(microsecond=0, second=0, minute=0, hour=0)\n",
    "    max_date = max(dates).replace(microsecond=0, second=0, minute=0, hour=0)\n",
    "    # make sure the min and max values are at least a day appart\n",
    "    if min_date == max_date:\n",
    "        max_date = max_date.replace(day=max_date.day+1)\n",
    "    return min_date, max_date"
   ]
  },
  {
   "cell_type": "code",
   "execution_count": null,
   "metadata": {},
   "outputs": [],
   "source": [
    "dates_df = pd.DataFrame([datetime.datetime(2020, 1, 1), datetime.datetime(2020, 1, 1)], columns=[\"dates\"])\n",
    "min_date, max_date = get_min_and_max_dates(dates_df[\"dates\"])\n",
    "assert min_date.day == max_date.day-1"
   ]
  },
  {
   "cell_type": "code",
   "execution_count": null,
   "metadata": {},
   "outputs": [],
   "source": [
    "#export\n",
    "def convert_rgb_image_to_bokeh_rgb_image(img: np.ndarray) -> np.ndarray:\n",
    "    \"\"\"Convertes a image in the form of a numpy array to an array that can be shown by bokeh.\"\"\"\n",
    "    img = np.flipud(img)\n",
    "    img = img.astype(np.uint8)\n",
    "    bokeh_img = np.empty((img.shape[0],img.shape[1]), dtype=np.uint32)\n",
    "    view = bokeh_img.view(dtype=np.uint8).reshape((img.shape[0],img.shape[1], 4))\n",
    "    view[:,:, 0] = img[:,:,0]\n",
    "    view[:,:, 1] = img[:,:,1]\n",
    "    view[:,:, 2] = img[:,:,2]\n",
    "    view[:,:, 3] = 255\n",
    "    return bokeh_img"
   ]
  },
  {
   "cell_type": "markdown",
   "metadata": {},
   "source": [
    "Bokeh requries images to be in a hw format where each value is a 32bit integer where each of the 8bit sequences contains the rgb and alpha values."
   ]
  },
  {
   "cell_type": "code",
   "execution_count": null,
   "metadata": {},
   "outputs": [],
   "source": [
    "#hide\n",
    "img = np.random.randint(0, 256, [10,10,3], dtype=np.uint8)\n",
    "bokeh_img = convert_rgb_image_to_bokeh_rgb_image(img)\n",
    "assert bokeh_img.shape == (10,10)\n",
    "assert bokeh_img.dtype == np.uint32"
   ]
  },
  {
   "cell_type": "code",
   "execution_count": null,
   "metadata": {},
   "outputs": [],
   "source": [
    "#export\n",
    "def draw_record_with_bokeh(\n",
    "    record,\n",
    "    class_map=None,\n",
    "    display_label=True,\n",
    "    display_bbox=False,\n",
    "    display_mask=False,\n",
    "    display_keypoints=False,\n",
    "    return_figure=False,\n",
    "    width=None,\n",
    "    height=None\n",
    "):\n",
    "    \"\"\"Draws a record or returns a bokeh figure containing the image.\"\"\"\n",
    "    img = draw_record(\n",
    "            record=record,\n",
    "            class_map=class_map,\n",
    "            display_label=display_label,\n",
    "            display_bbox=display_bbox,\n",
    "            display_mask=display_mask,\n",
    "            display_keypoints=display_keypoints,\n",
    "        )\n",
    "\n",
    "    # create bokeh figure with the plot\n",
    "    bokeh_img = convert_rgb_image_to_bokeh_rgb_image(img)\n",
    "    \n",
    "    # make sure the aspect ratio of the image is retained, if only the width of hight is given\n",
    "    if width is None and height is not None:\n",
    "        plot_width = int(img.shape[1]/img.shape[0] * height)\n",
    "        plot_height = height\n",
    "    elif height is None and width is not None:\n",
    "        plot_width = width\n",
    "        plot_height = int(img.shape[0]/img.shape[1] * width)\n",
    "    else:\n",
    "        plot_width = img.shape[1] if width is None else width\n",
    "        plot_height = img.shape[0] if height is None else height\n",
    "    \n",
    "    p = figure(tools=\"reset, wheel_zoom, box_zoom, save, pan\", width=plot_width, height=plot_height, x_range=(0, img.shape[1]), y_range=(img.shape[0], 0), x_axis_location=\"above\")\n",
    "    p.xgrid.grid_line_color = None\n",
    "    p.ygrid.grid_line_color = None\n",
    "    p.image_rgba([bokeh_img], x=0, y=img.shape[0], dw=img.shape[1], dh=img.shape[0], level=\"image\")\n",
    "    if return_figure:\n",
    "        return p\n",
    "    else:\n",
    "        show(p)"
   ]
  },
  {
   "cell_type": "markdown",
   "metadata": {},
   "source": [
    "Wrapper around the `draw_record` function from icevision. The aspect ratio of the image will be preserved when only width or height is given (scaling the other accordingly)."
   ]
  }
 ],
 "metadata": {
  "kernelspec": {
   "display_name": "Python 3",
   "language": "python",
   "name": "python3"
  }
 },
 "nbformat": 4,
 "nbformat_minor": 4
}
